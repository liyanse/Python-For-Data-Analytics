{
 "cells": [
  {
   "cell_type": "markdown",
   "id": "d45c5d65-4642-48c0-994a-150e3b7bc893",
   "metadata": {},
   "source": [
    "#### Print Your First Statement in Python"
   ]
  },
  {
   "cell_type": "code",
   "execution_count": 1,
   "id": "8310c23b-325c-480f-a837-5e96f934d550",
   "metadata": {},
   "outputs": [
    {
     "name": "stdout",
     "output_type": "stream",
     "text": [
      "Hello, World\n"
     ]
    }
   ],
   "source": [
    "print(\"Hello, World\")"
   ]
  },
  {
   "cell_type": "markdown",
   "id": "704a6a56-9c18-4a0b-a6f4-0f930f94a30b",
   "metadata": {},
   "source": [
    "#### Python Syntax Rules"
   ]
  },
  {
   "cell_type": "markdown",
   "id": "9ab77a3f-a917-4817-b271-38b9ef3ab7b1",
   "metadata": {},
   "source": [
    "##### Python Indentation\r\n",
    "Indentation refers to the spaces at the beginning of a code line."
   ]
  },
  {
   "cell_type": "code",
   "execution_count": 2,
   "id": "7f85ddb4-d1a3-4843-b12d-598031151fbf",
   "metadata": {},
   "outputs": [
    {
     "name": "stdout",
     "output_type": "stream",
     "text": [
      "Five is greater than four!\n"
     ]
    }
   ],
   "source": [
    "if 5 > 4:\n",
    "  print(\"Five is greater than four!\")"
   ]
  },
  {
   "cell_type": "markdown",
   "id": "6b291dce-390e-4277-93bc-c09c520e0cbd",
   "metadata": {},
   "source": [
    "##### Comments\n",
    "In Python, the letter #, indicates the start of a comment. \n",
    "\n",
    "If you begin a line with the letter #, python renders the rest of the line as a comment"
   ]
  },
  {
   "cell_type": "code",
   "execution_count": 3,
   "id": "cfc756ba-5969-4644-ae68-c3f62e0b9e69",
   "metadata": {},
   "outputs": [
    {
     "name": "stdout",
     "output_type": "stream",
     "text": [
      "The quick brown fox jumps over the lazy dog!\n"
     ]
    }
   ],
   "source": [
    "#This is a comment.\n",
    "print(\"The quick brown fox jumps over the lazy dog!\")"
   ]
  },
  {
   "cell_type": "code",
   "execution_count": 4,
   "id": "1a2f3e7f-b1ca-4113-a420-170f10da1638",
   "metadata": {},
   "outputs": [
    {
     "name": "stdout",
     "output_type": "stream",
     "text": [
      "The quick brown fox jumps over the lazy dog!\n"
     ]
    }
   ],
   "source": [
    "#This is a comment.\n",
    "print(\"The quick brown fox jumps over the lazy dog!\") #this is also a comment\""
   ]
  },
  {
   "cell_type": "code",
   "execution_count": 5,
   "id": "8a11fbe7-bfab-4d02-b315-c24e50f50346",
   "metadata": {},
   "outputs": [
    {
     "name": "stdout",
     "output_type": "stream",
     "text": [
      "The quick brown fox jumps over the lazy dog!\n"
     ]
    }
   ],
   "source": [
    "#Comments could also prevent a code from running\n",
    "#print(\"Hello World\")\n",
    "print(\"The quick brown fox jumps over the lazy dog!\")"
   ]
  },
  {
   "cell_type": "markdown",
   "id": "fe616dde-3fac-4ed8-9729-af47e14d791e",
   "metadata": {},
   "source": [
    "##### Python Multi-Line Statements\n",
    "Python statements are typically written one per line. \n",
    "\n",
    "End-of-line terminates a statement unless it is continued by a backslash / , an open parenthesis (, an open square bracket [, or an open curly brace {."
   ]
  },
  {
   "cell_type": "code",
   "execution_count": 6,
   "id": "36e27047-25eb-4397-ac68-2a9da335dafd",
   "metadata": {},
   "outputs": [
    {
     "name": "stdout",
     "output_type": "stream",
     "text": [
      "10\n"
     ]
    }
   ],
   "source": [
    "sum_of_goods = 2+ \\\n",
    "        3 + \\\n",
    "        5\n",
    "print(sum_of_goods)"
   ]
  },
  {
   "cell_type": "code",
   "execution_count": 7,
   "id": "5ef89326-48d7-4412-ba15-b6ef33271be8",
   "metadata": {},
   "outputs": [
    {
     "name": "stdout",
     "output_type": "stream",
     "text": [
      "['Monday', 'Tuesday', 'Wednesday', 'Thursday', 'Friday']\n"
     ]
    }
   ],
   "source": [
    "days_of_the_week = ['Monday', 'Tuesday', 'Wednesday',\n",
    "        'Thursday', 'Friday']\n",
    "\n",
    "print(days_of_the_week)"
   ]
  },
  {
   "cell_type": "markdown",
   "id": "37450a37-e8fc-428d-a082-f2dafee78b70",
   "metadata": {},
   "source": [
    "##### Quotations in Python\n",
    "When working with strings or other data types, python allows us to use single ('), double (\") and triple(''' or \"\"\") quotes.\n",
    "\n",
    "However, one needs to use the same pair of quotes from start to end\n"
   ]
  },
  {
   "cell_type": "code",
   "execution_count": 8,
   "id": "9f769827-975d-468e-9b1f-dd768bbf6f0c",
   "metadata": {},
   "outputs": [
    {
     "name": "stdout",
     "output_type": "stream",
     "text": [
      "Python\n",
      "Python is a programming language\n",
      "Comments in Python begin with the hash symbol (#) and continue to the end of the line. \n",
      "They are used to explain code and make it more readable.\n"
     ]
    }
   ],
   "source": [
    "language = 'Python'\n",
    "print (language)\n",
    "\n",
    "sentence = \"Python is a programming language\"\n",
    "print (sentence)\n",
    "\n",
    "paragraph = \"\"\"Comments in Python begin with the hash symbol (#) and continue to the end of the line. \n",
    "They are used to explain code and make it more readable.\"\"\"\n",
    "print (paragraph)"
   ]
  },
  {
   "cell_type": "code",
   "execution_count": null,
   "id": "ff34725d-cd66-49c2-b647-2701202ce5d9",
   "metadata": {},
   "outputs": [],
   "source": []
  }
 ],
 "metadata": {
  "kernelspec": {
   "display_name": "Python 3 (ipykernel)",
   "language": "python",
   "name": "python3"
  },
  "language_info": {
   "codemirror_mode": {
    "name": "ipython",
    "version": 3
   },
   "file_extension": ".py",
   "mimetype": "text/x-python",
   "name": "python",
   "nbconvert_exporter": "python",
   "pygments_lexer": "ipython3",
   "version": "3.11.5"
  }
 },
 "nbformat": 4,
 "nbformat_minor": 5
}
